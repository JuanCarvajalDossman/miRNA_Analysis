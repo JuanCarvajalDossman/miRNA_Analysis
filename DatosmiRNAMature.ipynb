{
 "cells": [
  {
   "cell_type": "code",
   "execution_count": 1,
   "id": "3eda69c6",
   "metadata": {},
   "outputs": [],
   "source": [
    "import pandas as pd\n",
    "import matplotlib.pyplot as plt\n",
    "import numpy as np\n",
    "data = pd.read_csv('mature_counts.csv')\n",
    "data = data.set_index(data.columns[0])\n"
   ]
  },
  {
   "cell_type": "code",
   "execution_count": 2,
   "id": "fbe84003",
   "metadata": {},
   "outputs": [
    {
     "data": {
      "text/html": [
       "<div>\n",
       "<style scoped>\n",
       "    .dataframe tbody tr th:only-of-type {\n",
       "        vertical-align: middle;\n",
       "    }\n",
       "\n",
       "    .dataframe tbody tr th {\n",
       "        vertical-align: top;\n",
       "    }\n",
       "\n",
       "    .dataframe thead th {\n",
       "        text-align: right;\n",
       "    }\n",
       "</style>\n",
       "<table border=\"1\" class=\"dataframe\">\n",
       "  <thead>\n",
       "    <tr style=\"text-align: right;\">\n",
       "      <th></th>\n",
       "      <th>hsa-let-7a-5p</th>\n",
       "      <th>hsa-let-7a-3p</th>\n",
       "      <th>hsa-let-7a-2-3p</th>\n",
       "      <th>hsa-let-7b-5p</th>\n",
       "      <th>hsa-let-7b-3p</th>\n",
       "      <th>hsa-let-7c-5p</th>\n",
       "      <th>hsa-let-7c-3p</th>\n",
       "      <th>hsa-let-7d-5p</th>\n",
       "      <th>hsa-let-7d-3p</th>\n",
       "      <th>hsa-let-7e-5p</th>\n",
       "      <th>...</th>\n",
       "      <th>hsa-miR-12126</th>\n",
       "      <th>hsa-miR-12127</th>\n",
       "      <th>hsa-miR-12128</th>\n",
       "      <th>hsa-miR-12129</th>\n",
       "      <th>hsa-miR-12130</th>\n",
       "      <th>hsa-miR-12131</th>\n",
       "      <th>hsa-miR-12132</th>\n",
       "      <th>hsa-miR-12133</th>\n",
       "      <th>hsa-miR-12135</th>\n",
       "      <th>hsa-miR-12136</th>\n",
       "    </tr>\n",
       "    <tr>\n",
       "      <th>Unnamed: 0</th>\n",
       "      <th></th>\n",
       "      <th></th>\n",
       "      <th></th>\n",
       "      <th></th>\n",
       "      <th></th>\n",
       "      <th></th>\n",
       "      <th></th>\n",
       "      <th></th>\n",
       "      <th></th>\n",
       "      <th></th>\n",
       "      <th></th>\n",
       "      <th></th>\n",
       "      <th></th>\n",
       "      <th></th>\n",
       "      <th></th>\n",
       "      <th></th>\n",
       "      <th></th>\n",
       "      <th></th>\n",
       "      <th></th>\n",
       "      <th></th>\n",
       "      <th></th>\n",
       "    </tr>\n",
       "  </thead>\n",
       "  <tbody>\n",
       "    <tr>\n",
       "      <th>SAMPLE_1</th>\n",
       "      <td>259093</td>\n",
       "      <td>5072</td>\n",
       "      <td>3</td>\n",
       "      <td>168512</td>\n",
       "      <td>806</td>\n",
       "      <td>83644</td>\n",
       "      <td>2</td>\n",
       "      <td>40852</td>\n",
       "      <td>6113</td>\n",
       "      <td>246</td>\n",
       "      <td>...</td>\n",
       "      <td>10</td>\n",
       "      <td>7</td>\n",
       "      <td>5</td>\n",
       "      <td>1</td>\n",
       "      <td>1</td>\n",
       "      <td>5</td>\n",
       "      <td>2</td>\n",
       "      <td>5</td>\n",
       "      <td>0</td>\n",
       "      <td>55</td>\n",
       "    </tr>\n",
       "    <tr>\n",
       "      <th>SAMPLE_2</th>\n",
       "      <td>620467</td>\n",
       "      <td>20285</td>\n",
       "      <td>11</td>\n",
       "      <td>313216</td>\n",
       "      <td>4526</td>\n",
       "      <td>125411</td>\n",
       "      <td>5</td>\n",
       "      <td>140380</td>\n",
       "      <td>18021</td>\n",
       "      <td>795</td>\n",
       "      <td>...</td>\n",
       "      <td>4</td>\n",
       "      <td>10</td>\n",
       "      <td>0</td>\n",
       "      <td>1</td>\n",
       "      <td>3</td>\n",
       "      <td>0</td>\n",
       "      <td>0</td>\n",
       "      <td>0</td>\n",
       "      <td>10</td>\n",
       "      <td>238</td>\n",
       "    </tr>\n",
       "    <tr>\n",
       "      <th>SAMPLE_3</th>\n",
       "      <td>808161</td>\n",
       "      <td>28439</td>\n",
       "      <td>0</td>\n",
       "      <td>594136</td>\n",
       "      <td>5247</td>\n",
       "      <td>181930</td>\n",
       "      <td>0</td>\n",
       "      <td>22443</td>\n",
       "      <td>39096</td>\n",
       "      <td>857</td>\n",
       "      <td>...</td>\n",
       "      <td>4</td>\n",
       "      <td>0</td>\n",
       "      <td>0</td>\n",
       "      <td>3</td>\n",
       "      <td>0</td>\n",
       "      <td>0</td>\n",
       "      <td>0</td>\n",
       "      <td>0</td>\n",
       "      <td>0</td>\n",
       "      <td>149</td>\n",
       "    </tr>\n",
       "  </tbody>\n",
       "</table>\n",
       "<p>3 rows × 2550 columns</p>\n",
       "</div>"
      ],
      "text/plain": [
       "            hsa-let-7a-5p  hsa-let-7a-3p  hsa-let-7a-2-3p  hsa-let-7b-5p  \\\n",
       "Unnamed: 0                                                                 \n",
       "SAMPLE_1           259093           5072                3         168512   \n",
       "SAMPLE_2           620467          20285               11         313216   \n",
       "SAMPLE_3           808161          28439                0         594136   \n",
       "\n",
       "            hsa-let-7b-3p  hsa-let-7c-5p  hsa-let-7c-3p  hsa-let-7d-5p  \\\n",
       "Unnamed: 0                                                               \n",
       "SAMPLE_1              806          83644              2          40852   \n",
       "SAMPLE_2             4526         125411              5         140380   \n",
       "SAMPLE_3             5247         181930              0          22443   \n",
       "\n",
       "            hsa-let-7d-3p  hsa-let-7e-5p  ...  hsa-miR-12126  hsa-miR-12127  \\\n",
       "Unnamed: 0                                ...                                 \n",
       "SAMPLE_1             6113            246  ...             10              7   \n",
       "SAMPLE_2            18021            795  ...              4             10   \n",
       "SAMPLE_3            39096            857  ...              4              0   \n",
       "\n",
       "            hsa-miR-12128  hsa-miR-12129  hsa-miR-12130  hsa-miR-12131  \\\n",
       "Unnamed: 0                                                               \n",
       "SAMPLE_1                5              1              1              5   \n",
       "SAMPLE_2                0              1              3              0   \n",
       "SAMPLE_3                0              3              0              0   \n",
       "\n",
       "            hsa-miR-12132  hsa-miR-12133  hsa-miR-12135  hsa-miR-12136  \n",
       "Unnamed: 0                                                              \n",
       "SAMPLE_1                2              5              0             55  \n",
       "SAMPLE_2                0              0             10            238  \n",
       "SAMPLE_3                0              0              0            149  \n",
       "\n",
       "[3 rows x 2550 columns]"
      ]
     },
     "execution_count": 2,
     "metadata": {},
     "output_type": "execute_result"
    }
   ],
   "source": [
    "data.head()"
   ]
  },
  {
   "cell_type": "code",
   "execution_count": 9,
   "id": "cbee23e4",
   "metadata": {},
   "outputs": [
    {
     "name": "stdout",
     "output_type": "stream",
     "text": [
      "Unnamed: 0\n",
      "SAMPLE_1    1\n",
      "SAMPLE_2    4\n",
      "SAMPLE_3    0\n",
      "dtype: int64\n"
     ]
    }
   ],
   "source": [
    "zeros_count = (data >= 1000000).sum(axis=1)\n",
    "\n",
    "print(zeros_count)"
   ]
  },
  {
   "cell_type": "code",
   "execution_count": 22,
   "id": "b529c0a7",
   "metadata": {},
   "outputs": [
    {
     "name": "stdout",
     "output_type": "stream",
     "text": [
      "S1 Máximo:1124531\n",
      "S1 Mínimo:0\n",
      "S2 Máximo:3629013\n",
      "S2 Mínimo:0\n",
      "S3 Máximo:826538\n",
      "S3 Mínimo:0\n"
     ]
    }
   ],
   "source": [
    "print('S1 Máximo:'+ str(np.max(data.iloc[0].values)))\n",
    "print('S1 Mínimo:'+ str(np.min(data.iloc[0].values)))\n",
    "print('S2 Máximo:'+ str(np.max(data.iloc[1].values)))\n",
    "print('S2 Mínimo:'+ str(np.min(data.iloc[1].values)))\n",
    "print('S3 Máximo:'+ str(np.max(data.iloc[2].values)))\n",
    "print('S3 Mínimo:'+ str(np.min(data.iloc[2].values)))\n"
   ]
  },
  {
   "cell_type": "code",
   "execution_count": 23,
   "id": "af3a88d8",
   "metadata": {},
   "outputs": [
    {
     "name": "stdout",
     "output_type": "stream",
     "text": [
      "S1 Total:6098748\n",
      "S2 Total:20136548\n",
      "S3 Total:10265132\n"
     ]
    }
   ],
   "source": [
    "print('S1 Total:'+ str(sum(data.iloc[0].values)))\n",
    "print('S2 Total:'+ str(sum(data.iloc[1].values)))\n",
    "print('S3 Total:'+ str(sum(data.iloc[2].values)))"
   ]
  },
  {
   "cell_type": "code",
   "execution_count": 24,
   "id": "4ab51b91",
   "metadata": {},
   "outputs": [],
   "source": [
    "data = data + 1\n",
    "datalog=np.log10(data)"
   ]
  },
  {
   "cell_type": "code",
   "execution_count": 25,
   "id": "d8daa441",
   "metadata": {},
   "outputs": [
    {
     "data": {
      "text/html": [
       "<div>\n",
       "<style scoped>\n",
       "    .dataframe tbody tr th:only-of-type {\n",
       "        vertical-align: middle;\n",
       "    }\n",
       "\n",
       "    .dataframe tbody tr th {\n",
       "        vertical-align: top;\n",
       "    }\n",
       "\n",
       "    .dataframe thead th {\n",
       "        text-align: right;\n",
       "    }\n",
       "</style>\n",
       "<table border=\"1\" class=\"dataframe\">\n",
       "  <thead>\n",
       "    <tr style=\"text-align: right;\">\n",
       "      <th></th>\n",
       "      <th>hsa-let-7a-5p</th>\n",
       "      <th>hsa-let-7a-3p</th>\n",
       "      <th>hsa-let-7a-2-3p</th>\n",
       "      <th>hsa-let-7b-5p</th>\n",
       "      <th>hsa-let-7b-3p</th>\n",
       "      <th>hsa-let-7c-5p</th>\n",
       "      <th>hsa-let-7c-3p</th>\n",
       "      <th>hsa-let-7d-5p</th>\n",
       "      <th>hsa-let-7d-3p</th>\n",
       "      <th>hsa-let-7e-5p</th>\n",
       "      <th>...</th>\n",
       "      <th>hsa-miR-12126</th>\n",
       "      <th>hsa-miR-12127</th>\n",
       "      <th>hsa-miR-12128</th>\n",
       "      <th>hsa-miR-12129</th>\n",
       "      <th>hsa-miR-12130</th>\n",
       "      <th>hsa-miR-12131</th>\n",
       "      <th>hsa-miR-12132</th>\n",
       "      <th>hsa-miR-12133</th>\n",
       "      <th>hsa-miR-12135</th>\n",
       "      <th>hsa-miR-12136</th>\n",
       "    </tr>\n",
       "    <tr>\n",
       "      <th>Unnamed: 0</th>\n",
       "      <th></th>\n",
       "      <th></th>\n",
       "      <th></th>\n",
       "      <th></th>\n",
       "      <th></th>\n",
       "      <th></th>\n",
       "      <th></th>\n",
       "      <th></th>\n",
       "      <th></th>\n",
       "      <th></th>\n",
       "      <th></th>\n",
       "      <th></th>\n",
       "      <th></th>\n",
       "      <th></th>\n",
       "      <th></th>\n",
       "      <th></th>\n",
       "      <th></th>\n",
       "      <th></th>\n",
       "      <th></th>\n",
       "      <th></th>\n",
       "      <th></th>\n",
       "    </tr>\n",
       "  </thead>\n",
       "  <tbody>\n",
       "    <tr>\n",
       "      <th>SAMPLE_1</th>\n",
       "      <td>5.413457</td>\n",
       "      <td>3.705265</td>\n",
       "      <td>0.602060</td>\n",
       "      <td>5.226633</td>\n",
       "      <td>2.906874</td>\n",
       "      <td>4.922440</td>\n",
       "      <td>0.477121</td>\n",
       "      <td>4.611224</td>\n",
       "      <td>3.786325</td>\n",
       "      <td>2.392697</td>\n",
       "      <td>...</td>\n",
       "      <td>1.041393</td>\n",
       "      <td>0.903090</td>\n",
       "      <td>0.778151</td>\n",
       "      <td>0.30103</td>\n",
       "      <td>0.30103</td>\n",
       "      <td>0.778151</td>\n",
       "      <td>0.477121</td>\n",
       "      <td>0.778151</td>\n",
       "      <td>0.000000</td>\n",
       "      <td>1.748188</td>\n",
       "    </tr>\n",
       "    <tr>\n",
       "      <th>SAMPLE_2</th>\n",
       "      <td>5.792719</td>\n",
       "      <td>4.307196</td>\n",
       "      <td>1.079181</td>\n",
       "      <td>5.495845</td>\n",
       "      <td>3.655810</td>\n",
       "      <td>5.098339</td>\n",
       "      <td>0.778151</td>\n",
       "      <td>5.147308</td>\n",
       "      <td>4.255803</td>\n",
       "      <td>2.900913</td>\n",
       "      <td>...</td>\n",
       "      <td>0.698970</td>\n",
       "      <td>1.041393</td>\n",
       "      <td>0.000000</td>\n",
       "      <td>0.30103</td>\n",
       "      <td>0.60206</td>\n",
       "      <td>0.000000</td>\n",
       "      <td>0.000000</td>\n",
       "      <td>0.000000</td>\n",
       "      <td>1.041393</td>\n",
       "      <td>2.378398</td>\n",
       "    </tr>\n",
       "    <tr>\n",
       "      <th>SAMPLE_3</th>\n",
       "      <td>5.907498</td>\n",
       "      <td>4.453930</td>\n",
       "      <td>0.000000</td>\n",
       "      <td>5.773887</td>\n",
       "      <td>3.719994</td>\n",
       "      <td>5.259907</td>\n",
       "      <td>0.000000</td>\n",
       "      <td>4.351100</td>\n",
       "      <td>4.592143</td>\n",
       "      <td>2.933487</td>\n",
       "      <td>...</td>\n",
       "      <td>0.698970</td>\n",
       "      <td>0.000000</td>\n",
       "      <td>0.000000</td>\n",
       "      <td>0.60206</td>\n",
       "      <td>0.00000</td>\n",
       "      <td>0.000000</td>\n",
       "      <td>0.000000</td>\n",
       "      <td>0.000000</td>\n",
       "      <td>0.000000</td>\n",
       "      <td>2.176091</td>\n",
       "    </tr>\n",
       "  </tbody>\n",
       "</table>\n",
       "<p>3 rows × 2550 columns</p>\n",
       "</div>"
      ],
      "text/plain": [
       "            hsa-let-7a-5p  hsa-let-7a-3p  hsa-let-7a-2-3p  hsa-let-7b-5p  \\\n",
       "Unnamed: 0                                                                 \n",
       "SAMPLE_1         5.413457       3.705265         0.602060       5.226633   \n",
       "SAMPLE_2         5.792719       4.307196         1.079181       5.495845   \n",
       "SAMPLE_3         5.907498       4.453930         0.000000       5.773887   \n",
       "\n",
       "            hsa-let-7b-3p  hsa-let-7c-5p  hsa-let-7c-3p  hsa-let-7d-5p  \\\n",
       "Unnamed: 0                                                               \n",
       "SAMPLE_1         2.906874       4.922440       0.477121       4.611224   \n",
       "SAMPLE_2         3.655810       5.098339       0.778151       5.147308   \n",
       "SAMPLE_3         3.719994       5.259907       0.000000       4.351100   \n",
       "\n",
       "            hsa-let-7d-3p  hsa-let-7e-5p  ...  hsa-miR-12126  hsa-miR-12127  \\\n",
       "Unnamed: 0                                ...                                 \n",
       "SAMPLE_1         3.786325       2.392697  ...       1.041393       0.903090   \n",
       "SAMPLE_2         4.255803       2.900913  ...       0.698970       1.041393   \n",
       "SAMPLE_3         4.592143       2.933487  ...       0.698970       0.000000   \n",
       "\n",
       "            hsa-miR-12128  hsa-miR-12129  hsa-miR-12130  hsa-miR-12131  \\\n",
       "Unnamed: 0                                                               \n",
       "SAMPLE_1         0.778151        0.30103        0.30103       0.778151   \n",
       "SAMPLE_2         0.000000        0.30103        0.60206       0.000000   \n",
       "SAMPLE_3         0.000000        0.60206        0.00000       0.000000   \n",
       "\n",
       "            hsa-miR-12132  hsa-miR-12133  hsa-miR-12135  hsa-miR-12136  \n",
       "Unnamed: 0                                                              \n",
       "SAMPLE_1         0.477121       0.778151       0.000000       1.748188  \n",
       "SAMPLE_2         0.000000       0.000000       1.041393       2.378398  \n",
       "SAMPLE_3         0.000000       0.000000       0.000000       2.176091  \n",
       "\n",
       "[3 rows x 2550 columns]"
      ]
     },
     "execution_count": 25,
     "metadata": {},
     "output_type": "execute_result"
    }
   ],
   "source": [
    "datalog.head()"
   ]
  },
  {
   "cell_type": "code",
   "execution_count": 26,
   "id": "065e667d",
   "metadata": {},
   "outputs": [
    {
     "data": {
      "image/png": "[encoded data removed]",
      "text/plain": [
       "<Figure size 432x288 with 1 Axes>"
      ]
     },
     "metadata": {
      "needs_background": "light"
     },
     "output_type": "display_data"
    }
   ],
   "source": [
    "row_index = 0\n",
    "row_values = datalog.iloc[row_index].values\n",
    "plt.hist(row_values, bins=6)\n",
    "plt.title(f'Sample 1 miRNA Counts')\n",
    "plt.xlabel('log10(Counts)')\n",
    "plt.ylabel('Frequency')\n",
    "plt.show()"
   ]
  },
  {
   "cell_type": "code",
   "execution_count": 27,
   "id": "78536584",
   "metadata": {},
   "outputs": [
    {
     "data": {
      "image/png": "[encoded data removed]",
      "text/plain": [
       "<Figure size 432x288 with 1 Axes>"
      ]
     },
     "metadata": {
      "needs_background": "light"
     },
     "output_type": "display_data"
    }
   ],
   "source": [
    "row_index = 1\n",
    "row_values = datalog.iloc[row_index].values\n",
    "plt.hist(row_values, bins=6)\n",
    "plt.title(f'Sample 2 miRNA Counts')\n",
    "plt.xlabel('log10(Counts)')\n",
    "plt.ylabel('Frequency')\n",
    "plt.show()"
   ]
  },
  {
   "cell_type": "code",
   "execution_count": 28,
   "id": "f396421e",
   "metadata": {},
   "outputs": [
    {
     "data": {
      "image/png": "[encoded data removed]",
      "text/plain": [
       "<Figure size 432x288 with 1 Axes>"
      ]
     },
     "metadata": {
      "needs_background": "light"
     },
     "output_type": "display_data"
    }
   ],
   "source": [
    "row_index = 2\n",
    "row_values2 = datalog.iloc[row_index].values\n",
    "plt.hist(row_values2, bins=6)\n",
    "plt.title(f'Sample 3 miRNA Counts')\n",
    "plt.xlabel('log10(Counts)')\n",
    "plt.ylabel('Frequency')\n",
    "plt.show()"
   ]
  },
  {
   "cell_type": "code",
   "execution_count": 29,
   "id": "3da2f765",
   "metadata": {},
   "outputs": [
    {
     "data": {
      "image/png": "[encoded data removed]",
      "text/plain": [
       "<Figure size 864x288 with 3 Axes>"
      ]
     },
     "metadata": {
      "needs_background": "light"
     },
     "output_type": "display_data"
    }
   ],
   "source": [
    "import matplotlib.pyplot as plt\n",
    "import numpy as np\n",
    "\n",
    "row_valuesS1 = datalog.iloc[0].values\n",
    "row_valuesS2 = datalog.iloc[1].values\n",
    "row_valuesS3 = datalog.iloc[2].values\n",
    "# Create a figure and axis object\n",
    "fig, axs = plt.subplots(1, 3, figsize=(12, 4))\n",
    "\n",
    "# Plot histograms\n",
    "axs[0].hist(row_valuesS1, bins=6, color='blue', alpha=0.5, label='Sample 1')\n",
    "axs[1].hist(row_valuesS2, bins=6, color='green', alpha=0.5, label='Sample 2')\n",
    "axs[2].hist(row_valuesS3, bins=6, color='orange', alpha=0.5, label='Sample 3')\n",
    "\n",
    "# Add labels and title\n",
    "axs[0].set_xlabel('log10(Counts)')\n",
    "axs[0].set_ylabel('miRNA Frequency')\n",
    "axs[0].set_title('P001')\n",
    "axs[1].set_xlabel('log10(Counts)')\n",
    "axs[1].set_ylabel('miRNA Frequency')\n",
    "axs[1].set_title('P005')\n",
    "axs[2].set_xlabel('log10(Counts)')\n",
    "axs[2].set_ylabel('miRNA Frequency')\n",
    "axs[2].set_title('P008')\n",
    "\n",
    "# Add a legend\n",
    "plt.tight_layout()\n",
    "\n",
    "# Display the chart\n",
    "plt.show()\n"
   ]
  },
  {
   "cell_type": "code",
   "execution_count": 50,
   "id": "4239ea31",
   "metadata": {},
   "outputs": [
    {
     "name": "stdout",
     "output_type": "stream",
     "text": [
      "Value 3629014 found in column: hsa-miR-451a\n"
     ]
    }
   ],
   "source": [
    "value = np.int64(3629014)\n",
    "count=0\n",
    "for column in data.columns:\n",
    "    count+=1\n",
    "    if value in data[column].values:\n",
    "        print(f\"Value {value} found in column: {column}\")"
   ]
  },
  {
   "cell_type": "code",
   "execution_count": 35,
   "id": "38f56b25",
   "metadata": {},
   "outputs": [
    {
     "data": {
      "text/plain": [
       "2550"
      ]
     },
     "execution_count": 35,
     "metadata": {},
     "output_type": "execute_result"
    }
   ],
   "source": [
    "count"
   ]
  },
  {
   "cell_type": "code",
   "execution_count": 42,
   "id": "352bbd6d",
   "metadata": {},
   "outputs": [],
   "source": [
    "if np.int64(5072) in data['hsa-let-7a-3p'].values:\n",
    "    print('g')"
   ]
  },
  {
   "cell_type": "code",
   "execution_count": 19,
   "id": "e73f485f",
   "metadata": {},
   "outputs": [
    {
     "name": "stdout",
     "output_type": "stream",
     "text": [
      "Value 7 found in column: Column2\n"
     ]
    }
   ],
   "source": [
    "import pandas as pd\n",
    "\n",
    "# Create a sample dataframe\n",
    "data = {'Column1': [1, 2, 3, 4],\n",
    "        'Column2': [5, 6, 7, 8],\n",
    "        'Column3': [9, 10, 11, 12]}\n",
    "df = pd.DataFrame(data)\n",
    "\n",
    "# Value to search for\n",
    "value = 7\n",
    "\n",
    "# Iterate over each column and check for the value\n",
    "for column in df.columns:\n",
    "    if value in df[column].values:\n",
    "        print(f\"Value {value} found in column: {column}\")"
   ]
  },
  {
   "cell_type": "code",
   "execution_count": 52,
   "id": "d5d9aa76",
   "metadata": {},
   "outputs": [
    {
     "name": "stdout",
     "output_type": "stream",
     "text": [
      "2550\n"
     ]
    }
   ],
   "source": [
    "count=0\n",
    "for column in data.columns:\n",
    "    count+=1\n",
    "print(count)"
   ]
  },
  {
   "cell_type": "code",
   "execution_count": null,
   "id": "f04a37fa",
   "metadata": {},
   "outputs": [],
   "source": []
  }
 ],
 "metadata": {
  "kernelspec": {
   "display_name": "Python 3 (ipykernel)",
   "language": "python",
   "name": "python3"
  },
  "language_info": {
   "codemirror_mode": {
    "name": "ipython",
    "version": 3
   },
   "file_extension": ".py",
   "mimetype": "text/x-python",
   "name": "python",
   "nbconvert_exporter": "python",
   "pygments_lexer": "ipython3",
   "version": "3.9.12"
  }
 },
 "nbformat": 4,
 "nbformat_minor": 5
}
