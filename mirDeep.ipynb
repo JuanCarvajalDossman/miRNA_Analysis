{
 "cells": [
  {
   "cell_type": "code",
   "execution_count": 11,
   "id": "ca64b650",
   "metadata": {},
   "outputs": [],
   "source": [
    "import pandas as pd\n",
    "import matplotlib.pyplot as plt\n",
    "import numpy as np\n",
    "data1 = pd.read_csv('mirDeepS1.txt', header = None)\n",
    "data1=data1.transpose()\n",
    "data2 = pd.read_csv('mirDeepS2.txt', header = None)\n",
    "data2=data2.transpose()\n",
    "data3 = pd.read_csv('mirDeepS3.txt', header = None)\n",
    "data3=data3.transpose()"
   ]
  },
  {
   "cell_type": "code",
   "execution_count": 12,
   "id": "d3b9f132",
   "metadata": {},
   "outputs": [
    {
     "name": "stdout",
     "output_type": "stream",
     "text": [
      "S1 Máximo:1122554\n",
      "S1 Mínimo:5\n",
      "S2 Máximo:1963973\n",
      "S2 Mínimo:9\n",
      "S3 Máximo:871248\n",
      "S3 Mínimo:8\n"
     ]
    }
   ],
   "source": [
    "print('S1 Máximo:'+ str(np.max(data1.iloc[0].values)))\n",
    "print('S1 Mínimo:'+ str(np.min(data1.iloc[0].values)))\n",
    "print('S2 Máximo:'+ str(np.max(data2.iloc[0].values)))\n",
    "print('S2 Mínimo:'+ str(np.min(data2.iloc[0].values)))\n",
    "print('S3 Máximo:'+ str(np.max(data3.iloc[0].values)))\n",
    "print('S3 Mínimo:'+ str(np.min(data3.iloc[0].values)))"
   ]
  },
  {
   "cell_type": "code",
   "execution_count": 13,
   "id": "9979e1d1",
   "metadata": {},
   "outputs": [
    {
     "name": "stdout",
     "output_type": "stream",
     "text": [
      "S1 Total:6569254\n",
      "S2 Total:18308654\n",
      "S3 Total:10978205\n"
     ]
    }
   ],
   "source": [
    "print('S1 Total:'+ str(sum(data1.iloc[0].values)))\n",
    "print('S2 Total:'+ str(sum(data2.iloc[0].values)))\n",
    "print('S3 Total:'+ str(sum(data3.iloc[0].values)))"
   ]
  },
  {
   "cell_type": "code",
   "execution_count": 14,
   "id": "9d734751",
   "metadata": {},
   "outputs": [],
   "source": [
    "data1log=np.log10(data1)\n",
    "data2log=np.log10(data2)\n",
    "data3log=np.log10(data3)"
   ]
  },
  {
   "cell_type": "code",
   "execution_count": 15,
   "id": "a0e28b66",
   "metadata": {},
   "outputs": [
    {
     "data": {
      "image/png": "[encoded data removed]",
      "text/plain": [
       "<Figure size 864x288 with 3 Axes>"
      ]
     },
     "metadata": {
      "needs_background": "light"
     },
     "output_type": "display_data"
    }
   ],
   "source": [
    "import matplotlib.pyplot as plt\n",
    "import numpy as np\n",
    "\n",
    "row_valuesS1 = data1log.iloc[0].values\n",
    "row_valuesS2 = data2log.iloc[0].values\n",
    "row_valuesS3 = data3log.iloc[0].values\n",
    "# Create a figure and axis object\n",
    "fig, axs = plt.subplots(1, 3, figsize=(12, 4))\n",
    "\n",
    "# Plot histograms\n",
    "axs[0].hist(row_valuesS1, bins=6, color='blue', alpha=0.5, label='Sample 1')\n",
    "axs[1].hist(row_valuesS2, bins=6, color='green', alpha=0.5, label='Sample 2')\n",
    "axs[2].hist(row_valuesS3, bins=6, color='orange', alpha=0.5, label='Sample 3')\n",
    "\n",
    "# Add labels and title\n",
    "axs[0].set_xlabel('log10(Counts)')\n",
    "axs[0].set_ylabel('miRNA Frequency')\n",
    "axs[0].set_title('P001')\n",
    "axs[1].set_xlabel('log10(Counts)')\n",
    "axs[1].set_ylabel('miRNA Frequency')\n",
    "axs[1].set_title('P005')\n",
    "axs[2].set_xlabel('log10(Counts)')\n",
    "axs[2].set_ylabel('miRNA Frequency')\n",
    "axs[2].set_title('P008')\n",
    "\n",
    "# Add a legend\n",
    "plt.tight_layout()\n",
    "\n",
    "# Display the chart\n",
    "plt.show()"
   ]
  },
  {
   "cell_type": "code",
   "execution_count": 23,
   "id": "5021a623",
   "metadata": {},
   "outputs": [
    {
     "name": "stdout",
     "output_type": "stream",
     "text": [
      "Value 871248 found in column: 0\n"
     ]
    }
   ],
   "source": [
    "value = np.int64(871248)\n",
    "count=0\n",
    "for column in data3.columns:\n",
    "    count+=1\n",
    "    if value in data3[column].values:\n",
    "        print(f\"Value {value} found in column: {column}\")"
   ]
  },
  {
   "cell_type": "code",
   "execution_count": null,
   "id": "08fe02de",
   "metadata": {},
   "outputs": [],
   "source": [
    "value = np.int64(871248)\n",
    "count=0\n",
    "for column in data3.columns:\n",
    "    count+=1\n",
    "print(count)"
   ]
  }
 ],
 "metadata": {
  "kernelspec": {
   "display_name": "Python 3 (ipykernel)",
   "language": "python",
   "name": "python3"
  },
  "language_info": {
   "codemirror_mode": {
    "name": "ipython",
    "version": 3
   },
   "file_extension": ".py",
   "mimetype": "text/x-python",
   "name": "python",
   "nbconvert_exporter": "python",
   "pygments_lexer": "ipython3",
   "version": "3.9.12"
  }
 },
 "nbformat": 4,
 "nbformat_minor": 5
}
